{
  "nbformat": 4,
  "nbformat_minor": 0,
  "metadata": {
    "colab": {
      "name": "introduction_to_statistics.ipynb",
      "version": "0.3.2",
      "provenance": []
    },
    "kernelspec": {
      "name": "python3",
      "display_name": "Python 3"
    }
  },
  "cells": [
    {
      "metadata": {
        "id": "prcavvyWcdtT",
        "colab_type": "code",
        "outputId": "55818f09-81d2-4810-bd60-c6f3f7afacdc",
        "colab": {
          "base_uri": "https://localhost:8080/",
          "height": 34
        }
      },
      "cell_type": "code",
      "source": [
        "import random\n",
        "import math\n",
        "\n",
        "sd = math.sqrt(16) / 2\n",
        "  "
      ],
      "execution_count": 0,
      "outputs": [
        {
          "output_type": "execute_result",
          "data": {
            "text/plain": [
              "2.0"
            ]
          },
          "metadata": {
            "tags": []
          },
          "execution_count": 6
        }
      ]
    },
    {
      "metadata": {
        "id": "VZHWhnxIddw8",
        "colab_type": "code",
        "outputId": "0bd8665e-105f-42fa-8a68-a7f3cc7e7840",
        "colab": {
          "base_uri": "https://localhost:8080/",
          "height": 34
        }
      },
      "cell_type": "code",
      "source": [
        "-1.96*5+50"
      ],
      "execution_count": 0,
      "outputs": [
        {
          "output_type": "execute_result",
          "data": {
            "text/plain": [
              "40.2"
            ]
          },
          "metadata": {
            "tags": []
          },
          "execution_count": 12
        }
      ]
    },
    {
      "metadata": {
        "id": "9fVKUHadd3gM",
        "colab_type": "code",
        "outputId": "a02167b1-3c5d-4426-eb92-bf569d1b3292",
        "colab": {
          "base_uri": "https://localhost:8080/",
          "height": 34
        }
      },
      "cell_type": "code",
      "source": [
        "1.96*5+50"
      ],
      "execution_count": 0,
      "outputs": [
        {
          "output_type": "execute_result",
          "data": {
            "text/plain": [
              "59.8"
            ]
          },
          "metadata": {
            "tags": []
          },
          "execution_count": 11
        }
      ]
    },
    {
      "metadata": {
        "id": "G--lLMJ_w7cq",
        "colab_type": "text"
      },
      "cell_type": "markdown",
      "source": [
        "### Introduction to visualization library matplotlib"
      ]
    },
    {
      "metadata": {
        "id": "NfN02PBgk2Tf",
        "colab_type": "code",
        "colab": {
          "base_uri": "https://localhost:8080/",
          "height": 321
        },
        "outputId": "b8cc9cf7-0bc7-43e4-97da-a8f180185dd3"
      },
      "cell_type": "code",
      "source": [
        "%matplotlib inline\n",
        "import numpy as np\n",
        "import matplotlib.pyplot as plt\n",
        "\n",
        "\n",
        "# 100人分の年齢\n",
        "ages = [\n",
        "23, 22, 23, 22, 24, 20, 22, 24,\n",
        "29, 28, 25, 25, 26, 27, 28, 27, 25, 25, 27, 25, 25,\n",
        "32, 32, 32, 33, 33, 32, 33, 32, 30, 33, 32,\n",
        "35, 39, 38, 38, 37, 35, 38, 35, 35, 38, 35, 37,\n",
        "43, 44, 40, 41, 44, 41, 40, 43, 44, 41, 41, 44, 43, 42, 40, 44, 42, 41, 42,\n",
        "47, 49, 49, 46, 48, 45, 49, 49, 49, 49, 49, 48, 46, 49, 45, 48, 49, 48,\n",
        "54, 52, 54, 53, 53, 54, 50, 51, 52, 54,\n",
        "58, 56, 58, 58, 55, 57, 56, 56, 55]\n",
        "\n",
        "fig, ax = plt.subplots()\n",
        "n, bins,patches = ax.hist(ages, bins=8, range=(20,60), ec='black')\n",
        "# グラフのタイトル\n",
        "ax.set_title('Ages')\n",
        "# X軸のタイトル\n",
        "ax.set_xlabel('Age group')\n",
        "# Y軸のタイトル\n",
        "ax.set_ylabel('Numbers')\n",
        "# X軸のラベル\n",
        "label = [\n",
        "    '20 - 24',\n",
        "    '25 - 29',\n",
        "    '30 - 34',\n",
        "    '35 - 39',\n",
        "    '40 - 44',\n",
        "    '45 - 49',\n",
        "    '50 - 54',\n",
        "    '55 - 59'\n",
        "]\n",
        "# ラベルを打つX軸の場所。階級値をセットする。\n",
        "ax.set_xticks([22.5, 27.5, 32.5, 37.5, 42.5, 47.5, 52.5, 57.5])\n",
        "# X軸にラベルをセット、90度回転させる\n",
        "ax.set_xticklabels(label, rotation = 90)\n",
        "plt.show()"
      ],
      "execution_count": 41,
      "outputs": [
        {
          "output_type": "display_data",
          "data": {
            "image/png": "[encoded data removed]",
            "text/plain": [
              "<Figure size 432x288 with 1 Axes>"
            ]
          },
          "metadata": {
            "tags": []
          }
        }
      ]
    },
    {
      "metadata": {
        "id": "UWRUFzKev_LX",
        "colab_type": "text"
      },
      "cell_type": "markdown",
      "source": [
        "### Introduction to visualization library ***seaborn***"
      ]
    },
    {
      "metadata": {
        "id": "Zxyh6mfdmLXP",
        "colab_type": "code",
        "colab": {
          "base_uri": "https://localhost:8080/",
          "height": 274
        },
        "outputId": "eb724b40-5a35-4800-8078-8e4b0d2f827c"
      },
      "cell_type": "code",
      "source": [
        "import pandas as pd\n",
        "import seaborn as sns\n",
        "import matplotlib.pyplot as plt\n",
        "\n",
        "ages = [\n",
        "23, 22, 23, 22, 24, 20, 22, 24,\n",
        "29, 28, 25, 25, 26, 27, 28, 27, 25, 25, 27, 25, 25,\n",
        "32, 32, 32, 33, 33, 32, 33, 32, 30, 33, 32,\n",
        "35, 39, 38, 38, 37, 35, 38, 35, 35, 38, 35, 37,\n",
        "43, 44, 40, 41, 44, 41, 40, 43, 44, 41, 41, 44, 43, 42, 40, 44, 42, 41, 42,\n",
        "47, 49, 49, 46, 48, 45, 49, 49, 49, 49, 49, 48, 46, 49, 45, 48, 49, 48,\n",
        "54, 52, 54, 53, 53, 54, 50, 51, 52, 54,\n",
        "58, 56, 58, 58, 55, 57, 56, 56, 55]\n",
        "\n",
        "sns.distplot(ages, kde=True, rug=True)\n",
        "\n",
        "plt.show()\n"
      ],
      "execution_count": 46,
      "outputs": [
        {
          "output_type": "display_data",
          "data": {
            "image/png": "[encoded data removed]",
            "text/plain": [
              "<Figure size 432x288 with 1 Axes>"
            ]
          },
          "metadata": {
            "tags": []
          }
        }
      ]
    }
  ]
}